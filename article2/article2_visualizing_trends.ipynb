{
 "cells": [
  {
   "cell_type": "code",
   "execution_count": null,
   "id": "528c73f0",
   "metadata": {},
   "outputs": [],
   "source": [
    "# Import libraries for data manipulation, decomposition, and visualization\n",
    "import pandas as pd           # For loading and processing CSV data\n",
    "import matplotlib.pyplot as plt  # For plotting decomposition results\n",
    "from statsmodels.tsa.seasonal import seasonal_decompose  # For time series decomposition\n",
    "\n",
    "# Load Microsoft stock data from CSV\n",
    "# Source: https://www.kaggle.com/datasets/muhammadatiflatif/complete-microsoft-stock-dataset-19862025\n",
    "data = pd.read_csv('data/microsoft_stock_prices.csv', index_col='date')\n",
    "\n",
    "# Filter data from 2005 to 2024 for analysis\n",
    "data = data[(data.index >= \"2005-01-01\") & (data.index <= \"2024-12-31\")]\n",
    "\n",
    "# Decompose time series into trend, seasonal, and residual components\n",
    "# Use additive model with a 90-day period \n",
    "result = seasonal_decompose(data['close'], model='additive', period=90)\n",
    "\n",
    "# Plot the decomposition results\n",
    "result.plot()\n",
    "plt.suptitle('Microsoft Stock Closing Prices Decomposition (2005–2024)')\n",
    "plt.tight_layout()\n",
    "plt.show()"
   ]
  }
 ],
 "metadata": {
  "language_info": {
   "name": "python"
  }
 },
 "nbformat": 4,
 "nbformat_minor": 5
}
