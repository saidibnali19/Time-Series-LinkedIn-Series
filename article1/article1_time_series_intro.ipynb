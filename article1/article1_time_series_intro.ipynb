{
 "cells": [
  {
   "cell_type": "code",
   "execution_count": null,
   "id": "6ab99b77",
   "metadata": {},
   "outputs": [],
   "source": [
    "import pandas as pd\n",
    "import seaborn as sns\n",
    "import matplotlib.pyplot as plt\n",
    "%matplotlib inline"
   ]
  },
  {
   "cell_type": "code",
   "execution_count": null,
   "id": "ea7a7b21",
   "metadata": {},
   "outputs": [],
   "source": [
    "# Load Safaricom stock data\n",
    "data = pd.read_csv('../data/safaricom_stock_prices.csv',parse_dates=['Date'], index_col='Date',date_format=\"mixed\")"
   ]
  },
  {
   "cell_type": "code",
   "execution_count": null,
   "id": "971a7f19",
   "metadata": {},
   "outputs": [],
   "source": [
    "data.head()"
   ]
  },
  {
   "cell_type": "code",
   "execution_count": null,
   "id": "cafe5ec2",
   "metadata": {},
   "outputs": [],
   "source": [
    "# Remove spaces and convert column names to lowercase\n",
    "data.columns = data.columns.str.replace(\" \", \"_\").str.lower()"
   ]
  },
  {
   "cell_type": "code",
   "execution_count": null,
   "id": "09acda9c",
   "metadata": {},
   "outputs": [],
   "source": [
    "data.head()"
   ]
  },
  {
   "cell_type": "code",
   "execution_count": null,
   "id": "51b286c6",
   "metadata": {},
   "outputs": [],
   "source": [
    "# Filter data up to 2021\n",
    "data=data[data.index <= \"2021-12-31\"]"
   ]
  },
  {
   "cell_type": "code",
   "execution_count": null,
   "id": "167c8df1",
   "metadata": {},
   "outputs": [],
   "source": [
    "data.head()"
   ]
  },
  {
   "cell_type": "code",
   "execution_count": null,
   "id": "e5ee81f8",
   "metadata": {},
   "outputs": [],
   "source": [
    "# Plot time series\n",
    "sns.lineplot(data=data, x=data.index, y='close')\n",
    "plt.title('Safaricom Stock Closing Prices (2008–2021)')\n",
    "plt.xlabel('Year')\n",
    "plt.ylabel('Price (KES)')\n",
    "plt.show()"
   ]
  }
 ],
 "metadata": {
  "kernelspec": {
   "display_name": "venv",
   "language": "python",
   "name": "python3"
  },
  "language_info": {
   "codemirror_mode": {
    "name": "ipython",
    "version": 3
   },
   "file_extension": ".py",
   "mimetype": "text/x-python",
   "name": "python",
   "nbconvert_exporter": "python",
   "pygments_lexer": "ipython3",
   "version": "3.13.1"
  }
 },
 "nbformat": 4,
 "nbformat_minor": 5
}
